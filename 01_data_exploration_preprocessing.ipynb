# Importar bibliotecas necessárias
import pandas as pd
import numpy as np
import matplotlib.pyplot as plt
import seaborn as sns
from sklearn.preprocessing import StandardScaler, LabelEncoder
from sklearn.model_selection import train_test_split
import warnings
warnings.filterwarnings('ignore')

# Configurar estilo dos gráficos
plt.style.use('default')
sns.set_palette("husl")

# Opções de display
pd.set_option('display.max_columns', None)
pd.set_option('display.width', 1000)

print("🚀 ANÁLISE EXPLORATÓRIA E PRÉ-PROCESSAMENTO DE DADOS")
print("=" * 60)# 🚀 Startup Success Prediction - Data Exploration & Preprocessing

## Overview
Este notebook foca na exploração, limpeza e pré-processamento dos dados para o desafio de previsão de sucesso de startups.

### Objetivos:
1. Carregar e explorar o dataset
2. Tratar valores ausentes
3. Tratar outliers
4. Codificar variáveis categóricas
5. Preparar dados para modelagem